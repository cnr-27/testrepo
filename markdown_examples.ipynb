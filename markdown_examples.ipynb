{
 "cells": [
  {
   "cell_type": "markdown",
   "id": "6683ac88-063a-49ad-8cf9-93a5adda3fe6",
   "metadata": {},
   "source": [
    "# Markdown Cheatsheet"
   ]
  },
  {
   "cell_type": "raw",
   "id": "0ee50d69-a40c-4667-abb9-8f4e17bd10b3",
   "metadata": {},
   "source": [
    "# https://towardsdatascience.com/jupyter-and-markdown-cbc1f0ea6406"
   ]
  },
  {
   "cell_type": "markdown",
   "id": "930ecee3-4bed-412e-94e7-334456853e1e",
   "metadata": {},
   "source": [
    "### https://towardsdatascience.com/jupyter-and-markdown-cbc1f0ea6406"
   ]
  },
  {
   "cell_type": "markdown",
   "id": "e307a7c1-822c-4745-9c8d-8bf0add2a1b8",
   "metadata": {
    "tags": []
   },
   "source": [
    "### https://github.com/adam-p/markdown-here/wiki/Markdown-Cheatsheet"
   ]
  },
  {
   "cell_type": "markdown",
   "id": "1efc3d7a-3590-435d-a5de-15bbde15046d",
   "metadata": {},
   "source": [
    "# Emphasis"
   ]
  },
  {
   "cell_type": "raw",
   "id": "6b69d42c-3772-4b59-a0c4-c990400d5ed3",
   "metadata": {},
   "source": [
    "Emphasis, aka italics, with *asterisks* or _underscores_.\n",
    "\n",
    "Strong emphasis, aka bold, with **asterisks** or __underscores__.\n",
    "\n",
    "Combined emphasis with **asterisks and _underscores_**.\n",
    "\n",
    "Strikethrough uses two tildes. ~~Scratch this.~~"
   ]
  },
  {
   "cell_type": "markdown",
   "id": "8017f893-8940-42f1-a017-4d57b4a286cf",
   "metadata": {},
   "source": [
    "Emphasis, aka italics, with *asterisks* or _underscores_.\n",
    "\n",
    "Strong emphasis, aka bold, with **asterisks** or __underscores__.\n",
    "\n",
    "Combined emphasis with **asterisks and _underscores_**.\n",
    "\n",
    "Strikethrough uses two tildes. ~~Scratch this.~~"
   ]
  },
  {
   "cell_type": "code",
   "execution_count": 4,
   "id": "c9887047-a23c-4516-8a30-31376ff42350",
   "metadata": {},
   "outputs": [],
   "source": [
    "# Strikethrough uses two tildes. ~~Scratch this.~~"
   ]
  },
  {
   "cell_type": "markdown",
   "id": "93d1e285-abc7-48bf-a871-e53e723d1051",
   "metadata": {},
   "source": [
    "# Strikethrough uses two tildes. ~~Scratch this.~~"
   ]
  },
  {
   "cell_type": "markdown",
   "id": "b0aeed08-eb17-438a-b813-beb11ce6faf0",
   "metadata": {},
   "source": [
    "# Tables"
   ]
  },
  {
   "cell_type": "raw",
   "id": "8b044df3-27b2-4bb3-8b94-bd93ba34411a",
   "metadata": {},
   "source": [
    "Left aligned column | Centered column | Right aligned column\n",
    ":-|:-:|-:\n",
    "**Bold data**|*Italic data*| Normal data"
   ]
  },
  {
   "cell_type": "markdown",
   "id": "f713b3d8-4120-4b5a-ae22-fe2c4420ee4c",
   "metadata": {},
   "source": [
    "Left aligned column | Centered column | Right aligned column\n",
    ":-|:-:|-:\n",
    "**Bold data**|*Italic data*| Normal data"
   ]
  },
  {
   "cell_type": "raw",
   "id": "3b876a40-05c9-4a03-a092-786d3cd2d012",
   "metadata": {},
   "source": [
    "Col1 |Col2 |Col3\n",
    "-----|-----|----- \n",
    "Data1|Data2|Data3\n",
    "Data1|Data2|Data3\n",
    "Data1|Data2|Data3\n",
    "Data1|Data2|Data3"
   ]
  },
  {
   "cell_type": "markdown",
   "id": "fa77b4aa-4d5f-462c-ac99-ed0450f58339",
   "metadata": {},
   "source": [
    "Col1 |Col2 |Col3\n",
    "-----|-----|----- \n",
    "Data1|Data2|Data3\n",
    "Data1|Data2|Data3\n",
    "Data1|Data2|Data3\n",
    "Data1|Data2|Data3"
   ]
  },
  {
   "cell_type": "raw",
   "id": "f1057995-a361-4003-91f7-6a6ff5bdfce0",
   "metadata": {},
   "source": [
    "| header | header |\n",
    "| ------ | ------ |\n",
    "| cell | cell |"
   ]
  },
  {
   "cell_type": "markdown",
   "id": "24a7978b-f4a1-40db-9416-5e20ca299f8e",
   "metadata": {},
   "source": [
    "| header | header |\n",
    "| ------ | ------ |\n",
    "| cell | cell |"
   ]
  },
  {
   "cell_type": "markdown",
   "id": "776d0d39-5b24-477d-9521-446e86711ff3",
   "metadata": {},
   "source": [
    "# Links"
   ]
  },
  {
   "cell_type": "code",
   "execution_count": null,
   "id": "f03830b2-6304-4289-b438-28b8c59fa40b",
   "metadata": {},
   "outputs": [],
   "source": [
    "#[I'm an inline-style link with title](https://www.google.com \"Google's Homepage\")"
   ]
  },
  {
   "cell_type": "markdown",
   "id": "1ddf8596-cbc6-47fd-a559-7aedaa9dda65",
   "metadata": {},
   "source": [
    "# [I'm an inline-style link with title](https://www.google.com \"Google's Homepage\")"
   ]
  },
  {
   "cell_type": "raw",
   "id": "e7ef9cf3-0de1-4901-aaaf-51d26221e2f2",
   "metadata": {},
   "source": [
    "URLs and URLs in angle brackets will automatically get turned into links. \n",
    "http://www.example.com or <http://www.example.com> and sometimes \n",
    "example.com (but not on Github, for example)."
   ]
  },
  {
   "cell_type": "markdown",
   "id": "41828bf7-7b4f-44d5-aa0b-77e1409cb653",
   "metadata": {},
   "source": [
    "\n",
    "URLs and URLs in angle brackets will automatically get turned into links. \n",
    "http://www.example.com or <http://www.example.com> and sometimes \n",
    "example.com (but not on Github, for example)."
   ]
  },
  {
   "cell_type": "markdown",
   "id": "8cbe75dc-05de-44fb-b853-32dc1f2b63fe",
   "metadata": {},
   "source": [
    "# Lists"
   ]
  },
  {
   "cell_type": "raw",
   "id": "1ee0fb03-eddf-48a1-ba73-003ecf99909a",
   "metadata": {},
   "source": [
    "1. First ordered list item\n",
    "2. Another item\n",
    "* Unordered sub-list. "
   ]
  },
  {
   "cell_type": "markdown",
   "id": "42705200-76c2-4454-87c5-3cc6d4e53452",
   "metadata": {},
   "source": [
    "1. First ordered list item\n",
    "2. Another item\n",
    "* Unordered sub-list. "
   ]
  },
  {
   "cell_type": "code",
   "execution_count": null,
   "id": "35a964f0-815b-49c8-ade4-03eb21818608",
   "metadata": {},
   "outputs": [],
   "source": [
    "# My Jupyter Notebook on IBM Watson Studio"
   ]
  },
  {
   "cell_type": "code",
   "execution_count": null,
   "id": "9192783b-0c16-4301-88db-d541f3116122",
   "metadata": {},
   "outputs": [],
   "source": [
    "**Ömer Caner Gemici**"
   ]
  },
  {
   "cell_type": "code",
   "execution_count": null,
   "id": "f3aacf09-756d-4207-9d8d-a707e36db81c",
   "metadata": {},
   "outputs": [],
   "source": [
    "*I am interested in data science because i like to play with Data*"
   ]
  },
  {
   "cell_type": "code",
   "execution_count": null,
   "id": "e3786e7d-361e-40bd-9c6a-79de58077934",
   "metadata": {},
   "outputs": [],
   "source": [
    "### **The below code should print 'Hello Coursera'**"
   ]
  },
  {
   "cell_type": "code",
   "execution_count": 3,
   "id": "3f0a97a9-9485-4074-9db7-4b93f670da20",
   "metadata": {},
   "outputs": [
    {
     "name": "stdout",
     "output_type": "stream",
     "text": [
      "Hello Coursera\n"
     ]
    }
   ],
   "source": [
    "print(\"Hello Coursera\")"
   ]
  },
  {
   "cell_type": "code",
   "execution_count": null,
   "id": "d631ca5d-1de3-4e1b-9b00-857283eae476",
   "metadata": {},
   "outputs": [],
   "source": [
    "1. First ordered list item\n",
    "2. Another item"
   ]
  },
  {
   "cell_type": "code",
   "execution_count": null,
   "id": "f9601b1d-2d5b-4c6b-92cc-96fb237f7637",
   "metadata": {},
   "outputs": [],
   "source": [
    "| Column1 | Column2 |\n",
    "| ------ | ------ |\n",
    "| cell | cell |"
   ]
  },
  {
   "cell_type": "code",
   "execution_count": null,
   "id": "90a2fb12-1afe-46e7-92e3-3afb383f481f",
   "metadata": {},
   "outputs": [],
   "source": [
    "This is IBM links. \n",
    "http://www.ibm.com "
   ]
  },
  {
   "cell_type": "code",
   "execution_count": null,
   "id": "35f9b0dc-0abb-4e82-b975-c4454dc30542",
   "metadata": {},
   "outputs": [],
   "source": []
  }
 ],
 "metadata": {
  "kernelspec": {
   "display_name": "Python 3 (ipykernel)",
   "language": "python",
   "name": "python3"
  },
  "language_info": {
   "codemirror_mode": {
    "name": "ipython",
    "version": 3
   },
   "file_extension": ".py",
   "mimetype": "text/x-python",
   "name": "python",
   "nbconvert_exporter": "python",
   "pygments_lexer": "ipython3",
   "version": "3.8.12"
  }
 },
 "nbformat": 4,
 "nbformat_minor": 5
}
